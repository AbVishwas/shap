{
 "cells": [
  {
   "cell_type": "markdown",
   "metadata": {},
   "source": [
    "# Positive vs. Negative Sentiment Classification\n",
    "\n",
    "Here we demonstrate how to explain a sentiment classification model for movie reviews. positive vs. negative sentim"
   ]
  },
  {
   "cell_type": "code",
   "execution_count": 3,
   "metadata": {},
   "outputs": [],
   "source": [
    "import datasets\n",
    "import numpy as np\n",
    "import transformers\n",
    "import time\n",
    "import shap"
   ]
  },
  {
   "cell_type": "markdown",
   "metadata": {},
   "source": [
    "## Load the IMDB movie review dataset"
   ]
  },
  {
   "cell_type": "code",
   "execution_count": 5,
   "metadata": {},
   "outputs": [],
   "source": [
    "dataset = datasets.load_dataset(\"imdb\", split=\"test\")\n",
    "\n",
    "# shorten the strings to fit into the pipeline model\n",
    "short_data = [v[:500] for v in dataset[\"text\"][:20]]"
   ]
  },
  {
   "cell_type": "markdown",
   "metadata": {},
   "source": [
    "## Load and run a sentiment analysis pipeline"
   ]
  },
  {
   "cell_type": "code",
   "execution_count": 7,
   "metadata": {},
   "outputs": [
    {
     "name": "stderr",
     "output_type": "stream",
     "text": [
      "No model was supplied, defaulted to distilbert/distilbert-base-uncased-finetuned-sst-2-english and revision af0f99b (https://huggingface.co/distilbert/distilbert-base-uncased-finetuned-sst-2-english).\n",
      "Using a pipeline without specifying a model name and revision in production is not recommended.\n",
      "C:\\Users\\azabe\\Envs\\winter_vals\\Lib\\site-packages\\huggingface_hub\\file_download.py:1132: FutureWarning: `resume_download` is deprecated and will be removed in version 1.0.0. Downloads always resume when possible. If you want to force a new download, use `force_download=True`.\n",
      "  warnings.warn(\n",
      "C:\\Users\\azabe\\Envs\\winter_vals\\Lib\\site-packages\\transformers\\pipelines\\text_classification.py:104: UserWarning: `return_all_scores` is now deprecated,  if want a similar functionality use `top_k=None` instead of `return_all_scores=True` or `top_k=1` instead of `return_all_scores=False`.\n",
      "  warnings.warn(\n"
     ]
    },
    {
     "data": {
      "text/plain": [
       "[[{'label': 'NEGATIVE', 'score': 0.07582081109285355},\n",
       "  {'label': 'POSITIVE', 'score': 0.924179196357727}],\n",
       " [{'label': 'NEGATIVE', 'score': 0.018342547118663788},\n",
       "  {'label': 'POSITIVE', 'score': 0.9816573858261108}]]"
      ]
     },
     "execution_count": 7,
     "metadata": {},
     "output_type": "execute_result"
    }
   ],
   "source": [
    "classifier = transformers.pipeline(\"sentiment-analysis\", return_all_scores=True)\n",
    "classifier(short_data[:2])"
   ]
  },
  {
   "cell_type": "markdown",
   "metadata": {},
   "source": [
    "## Explain the sentiment analysis pipeline"
   ]
  },
  {
   "cell_type": "code",
   "execution_count": 9,
   "metadata": {},
   "outputs": [],
   "source": [
    "# define the explainer\n",
    "explainer = shap.Explainer(classifier)"
   ]
  },
  {
   "cell_type": "code",
   "execution_count": 10,
   "metadata": {},
   "outputs": [
    {
     "name": "stderr",
     "output_type": "stream",
     "text": [
      "PartitionExplainer explainer: 3it [13:22, 401.36s/it]              \n"
     ]
    }
   ],
   "source": [
    "# explain the predictions of the pipeline on the first two samples\n",
    "start_time = time.time()\n",
    "shap_values = explainer(short_data[:2])\n",
    "explanation_time = time.time() - start_time"
   ]
  },
  {
   "cell_type": "code",
   "execution_count": 11,
   "metadata": {},
   "outputs": [
    {
     "data": {
      "text/plain": [
       "802.7239351272583"
      ]
     },
     "execution_count": 11,
     "metadata": {},
     "output_type": "execute_result"
    }
   ],
   "source": [
    "explanation_time"
   ]
  },
  {
   "cell_type": "code",
   "execution_count": null,
   "metadata": {},
   "outputs": [],
   "source": []
  },
  {
   "cell_type": "code",
   "execution_count": 12,
   "metadata": {},
   "outputs": [
    {
     "data": {
      "text/plain": [
       ".values =\n",
       "array([array([ 0.00000000e+00,  0.00000000e+00, -2.87491275e-09,  0.00000000e+00,\n",
       "               0.00000000e+00,  0.00000000e+00,  0.00000000e+00, -6.28688213e-11,\n",
       "              -3.71869646e-10,  0.00000000e+00, -3.71778697e-09, -1.77976744e-09,\n",
       "               0.00000000e+00,  0.00000000e+00,  4.23483471e-10,  0.00000000e+00,\n",
       "              -4.09750101e-09,  0.00000000e+00,  0.00000000e+00,  1.49179868e-09,\n",
       "               5.64455149e-10,  0.00000000e+00,  0.00000000e+00, -4.99596808e-10,\n",
       "               0.00000000e+00, -1.32672540e-09,  3.13275450e-09,  0.00000000e+00,\n",
       "               2.99147966e-10,  0.00000000e+00,  2.93152880e-09,  0.00000000e+00,\n",
       "              -3.15640136e-09,  0.00000000e+00,  0.00000000e+00,  5.66114977e-09,\n",
       "               0.00000000e+00,  4.13820089e-09, -1.09139364e-09,  0.00000000e+00,\n",
       "               0.00000000e+00,  1.93631422e-09, -7.05767889e-10,  0.00000000e+00,\n",
       "              -3.11501935e-10,  5.18298293e-10,  0.00000000e+00,  0.00000000e+00,\n",
       "               0.00000000e+00, -5.13940298e-10,  0.00000000e+00,  0.00000000e+00,\n",
       "               0.00000000e+00,  9.52582013e-10,  0.00000000e+00,  0.00000000e+00,\n",
       "               0.00000000e+00,  2.35169344e-10, -1.00760644e-09,  1.13686838e-09,\n",
       "               0.00000000e+00,  0.00000000e+00,  7.56017471e-10, -1.27988642e-09,\n",
       "               0.00000000e+00,  8.73933459e-09, -6.95308700e-10,  3.10183168e-09,\n",
       "               7.73297870e-10,  1.88038030e-10,  0.00000000e+00,  4.51564119e-10,\n",
       "              -5.22049959e-10,  3.64252628e-10,  0.00000000e+00,  2.71938916e-10,\n",
       "               2.94676283e-10, -1.58252078e-10,  0.00000000e+00, -5.87760951e-10,\n",
       "               7.56926966e-10, -6.58474164e-10,  1.04819264e-09,  0.00000000e+00,\n",
       "              -1.60844138e-09, -2.05182005e-09, -6.73026079e-10, -1.06410880e-09,\n",
       "               2.72848394e-12, -6.01175998e-10,  8.47876436e-10, -2.41698217e-10,\n",
       "               0.00000000e+00,  1.52272150e-09,  1.46474122e-09,  3.17004378e-09,\n",
       "               1.18461685e-09, -1.80307325e-09, -2.38742359e-10, -3.79532139e-10,\n",
       "               0.00000000e+00,  0.00000000e+00,  0.00000000e+00,  0.00000000e+00,\n",
       "               0.00000000e+00, -3.64570951e-09,  4.16952793e-10,  6.42424258e-10,\n",
       "              -2.04426425e-10, -7.84811246e-10, -3.13593773e-09,  4.72209649e-09,\n",
       "               0.00000000e+00, -2.66315207e-09,  2.89583113e-09,  8.61473382e-09,\n",
       "               2.95403879e-09,  7.13043846e-10, -1.31694833e-09,  1.54977897e-09,\n",
       "               1.14960130e-09,  1.42212872e-09, -2.98314262e-10, -5.17199321e-10,\n",
       "               8.58135001e-11, -4.48684053e-10, -3.44597437e-11,  1.73496942e-10,\n",
       "               0.00000000e+00])                                                  ,\n",
       "       array([ 0.00000000e+00,  1.15251169e-08,  0.00000000e+00, -5.05679054e-09,\n",
       "               3.42879503e-10,  0.00000000e+00,  0.00000000e+00,  5.98538463e-09,\n",
       "               0.00000000e+00, -6.57928467e-09,  0.00000000e+00,  0.00000000e+00,\n",
       "              -1.67347025e-09, -3.89627530e-09,  1.74259185e-09,  0.00000000e+00,\n",
       "              -3.33784556e-10, -1.58888724e-09,  1.75896275e-09,  0.00000000e+00,\n",
       "              -1.76623871e-09,  1.23691279e-10, -8.34916136e-10,  0.00000000e+00,\n",
       "              -1.77124093e-09,  0.00000000e+00,  0.00000000e+00, -1.34241418e-09,\n",
       "              -2.91402102e-09, -1.15051080e-09, -3.06772563e-09,  3.17413651e-10,\n",
       "               0.00000000e+00,  0.00000000e+00, -7.14317139e-09,  4.99676389e-09,\n",
       "              -2.73075784e-10,  0.00000000e+00,  1.56069291e-09,  1.09139364e-11,\n",
       "              -8.52196536e-10, -4.51018423e-09,  0.00000000e+00,  0.00000000e+00,\n",
       "              -7.26686267e-10,  1.19416654e-09, -2.10548023e-09, -1.19234755e-09,\n",
       "               0.00000000e+00,  5.04587661e-09,  0.00000000e+00,  4.82714313e-09,\n",
       "               0.00000000e+00, -5.30235411e-09,  4.36496824e-09,  4.82941687e-10,\n",
       "               2.66572897e-09,  4.35920811e-09,  0.00000000e+00,  1.37333700e-09,\n",
       "               0.00000000e+00, -6.13636075e-09, -4.22642188e-09, -2.77577783e-09,\n",
       "               1.88265403e-09,  0.00000000e+00, -3.62888386e-09, -3.77743466e-10,\n",
       "              -1.08723595e-09, -3.29600880e-09, -2.72029865e-09,  1.79261406e-09,\n",
       "               1.47338142e-10,  3.58886609e-09, -1.98633643e-09,  0.00000000e+00,\n",
       "               0.00000000e+00,  0.00000000e+00,  0.00000000e+00,  0.00000000e+00,\n",
       "              -4.86534191e-09,  1.71121428e-09, -4.48153514e-09, -1.51749191e-09,\n",
       "              -1.40062184e-10, -1.22872734e-09,  0.00000000e+00,  2.09911377e-09,\n",
       "              -8.35825631e-10, -7.97626853e-10,  0.00000000e+00,  3.22961569e-09,\n",
       "               0.00000000e+00, -1.70954687e-09,  9.27684596e-11, -3.81583555e-10,\n",
       "               9.49967216e-10, -1.34984172e-10,  4.96584107e-10, -2.25069622e-09,\n",
       "              -1.44564183e-09,  2.71529643e-09,  1.31071179e-09,  3.45426088e-09,\n",
       "               1.87583282e-10, -9.48299810e-11, -8.85847840e-10,  0.00000000e+00])],\n",
       "      dtype=object)\n",
       "\n",
       ".base_values =\n",
       "array([[0.56289107, 0.4371089 ],\n",
       "       [0.53882831, 0.46117169]])\n",
       "\n",
       ".data =\n",
       "(array(['', 'I ', 'love ', 'sci', '-', 'fi ', 'and ', 'am ', 'willing ',\n",
       "       'to ', 'put ', 'up ', 'with ', 'a ', 'lot', '. ', 'Sci', '-',\n",
       "       'fi ', 'movies', '/', 'TV ', 'are ', 'usually ', 'under', 'fu',\n",
       "       'nded', ', ', 'under', '-', 'appreciated ', 'and ',\n",
       "       'misunderstood', '. ', 'I ', 'tried ', 'to ', 'like ', 'this',\n",
       "       ', ', 'I ', 'really ', 'did', ', ', 'but ', 'it ', 'is ', 'to ',\n",
       "       'good ', 'TV ', 'sci', '-', 'fi ', 'as ', 'Babylon ', '5 ', 'is ',\n",
       "       'to ', 'Star ', 'Trek ', '(', 'the ', 'original', ')', '. ',\n",
       "       'Silly ', 'pro', 'st', 'hetic', 's', ', ', 'cheap ', 'cardboard ',\n",
       "       'sets', ', ', 'stil', 'ted ', 'dialogues', ', ', 'C', 'G ',\n",
       "       'that ', 'doesn', \"'\", 't ', 'match ', 'the ', 'background', ', ',\n",
       "       'and ', 'painfully ', 'one', '-', 'dimensional ', 'characters ',\n",
       "       'cannot ', 'be ', 'overcome ', 'with ', 'a ', \"'\", 'sci', '-',\n",
       "       'fi', \"' \", 'setting', '. ', '(', 'I', \"'\", 'm ', 'sure ',\n",
       "       'there ', 'are ', 'those ', 'of ', 'you ', 'out ', 'there ',\n",
       "       'who ', 'think ', 'Babylon ', '5 ', 'is ', 'good ', 'sci', '-',\n",
       "       'fi', ''], dtype=object), array(['', 'Worth ', 'the ', 'entertainment ', 'value ', 'of ', 'a ',\n",
       "       'rental', ', ', 'especially ', 'if ', 'you ', 'like ', 'action ',\n",
       "       'movies', '. ', 'This ', 'one ', 'features ', 'the ', 'usual ',\n",
       "       'car ', 'chases', ', ', 'fights ', 'with ', 'the ', 'great ',\n",
       "       'Van ', 'Dam', 'me ', 'kick ', 'style', ', ', 'shooting ',\n",
       "       'battles ', 'with ', 'the ', '40 ', 'shell ', 'load ', 'shotgun',\n",
       "       ', ', 'and ', 'even ', 'terrorist ', 'style ', 'bombs', '. ',\n",
       "       'All ', 'of ', 'this ', 'is ', 'entertaining ', 'and ',\n",
       "       'competent', 'ly ', 'handled ', 'but ', 'there ', 'is ',\n",
       "       'nothing ', 'that ', 'really ', 'blows ', 'you ', 'away ', 'if ',\n",
       "       'you', \"'\", 've ', 'seen ', 'your ', 'share ', 'before', '.', '<',\n",
       "       'br ', '/', '>', '<', 'br ', '/', '>', 'The ', 'plot ', 'is ',\n",
       "       'made ', 'interesting ', 'by ', 'the ', 'inclusion ', 'of ', 'a ',\n",
       "       'rabbit', ', ', 'which ', 'is ', 'clever ', 'but ', 'hardly ',\n",
       "       'profound', '. ', 'Many ', 'of ', 'the ', 'c', ''], dtype=object))"
      ]
     },
     "execution_count": 12,
     "metadata": {},
     "output_type": "execute_result"
    }
   ],
   "source": [
    "shap_values"
   ]
  },
  {
   "cell_type": "code",
   "execution_count": 13,
   "metadata": {},
   "outputs": [
    {
     "ename": "SyntaxError",
     "evalue": "invalid syntax (1494382757.py, line 3)",
     "output_type": "error",
     "traceback": [
      "\u001b[1;36m  Cell \u001b[1;32mIn[13], line 3\u001b[1;36m\u001b[0m\n\u001b[1;33m    .values =\u001b[0m\n\u001b[1;37m    ^\u001b[0m\n\u001b[1;31mSyntaxError\u001b[0m\u001b[1;31m:\u001b[0m invalid syntax\n"
     ]
    }
   ],
   "source": [
    "54.178290367126465\n",
    "\n",
    ".values =\n",
    "array([array([ 0.00000000e+00,  0.00000000e+00, -2.87491275e-09,  0.00000000e+00,\n",
    "               0.00000000e+00,  0.00000000e+00,  0.00000000e+00, -6.28688213e-11,\n",
    "              -3.71869646e-10,  0.00000000e+00, -3.71778697e-09, -1.77976744e-09,\n",
    "               0.00000000e+00,  0.00000000e+00,  4.23483471e-10,  0.00000000e+00,\n",
    "              -4.09750101e-09,  0.00000000e+00,  0.00000000e+00,  1.49179868e-09,\n",
    "               5.64455149e-10,  0.00000000e+00,  0.00000000e+00, -4.99596808e-10,\n",
    "               0.00000000e+00, -1.32672540e-09,  3.13275450e-09,  0.00000000e+00,\n",
    "               2.99147966e-10,  0.00000000e+00,  2.93152880e-09,  0.00000000e+00,\n",
    "              -3.15640136e-09,  0.00000000e+00,  0.00000000e+00,  5.66114977e-09,\n",
    "               0.00000000e+00,  4.13820089e-09, -1.09139364e-09,  0.00000000e+00,\n",
    "               0.00000000e+00,  1.93631422e-09, -7.05767889e-10,  0.00000000e+00,\n",
    "              -3.11501935e-10,  5.18298293e-10,  0.00000000e+00,  0.00000000e+00,\n",
    "               0.00000000e+00, -5.13940298e-10,  0.00000000e+00,  0.00000000e+00,\n",
    "               0.00000000e+00,  9.52582013e-10,  0.00000000e+00,  0.00000000e+00,\n",
    "               0.00000000e+00,  2.35169344e-10, -1.00760644e-09,  1.13686838e-09,\n",
    "               0.00000000e+00,  0.00000000e+00,  7.56017471e-10, -1.27988642e-09,\n",
    "               0.00000000e+00,  8.73933459e-09, -6.95308700e-10,  3.10183168e-09,\n",
    "               7.73297870e-10,  1.88038030e-10,  0.00000000e+00,  4.51564119e-10,\n",
    "              -5.22049959e-10,  3.64252628e-10,  0.00000000e+00,  2.71938916e-10,\n",
    "               2.94676283e-10, -1.58252078e-10,  0.00000000e+00, -5.87760951e-10,\n",
    "               7.56926966e-10, -6.58474164e-10,  1.04819264e-09,  0.00000000e+00,\n",
    "              -1.60844138e-09, -2.05182005e-09, -6.73026079e-10, -1.06410880e-09,\n",
    "               2.72848394e-12, -6.01175998e-10,  8.47876436e-10, -2.41698217e-10,\n",
    "               0.00000000e+00,  1.52272150e-09,  1.46474122e-09,  3.17004378e-09,\n",
    "               1.18461685e-09, -1.80307325e-09, -2.38742359e-10, -3.79532139e-10,\n",
    "               0.00000000e+00,  0.00000000e+00,  0.00000000e+00,  0.00000000e+00,\n",
    "               0.00000000e+00, -3.64570951e-09,  4.16952793e-10,  6.42424258e-10,\n",
    "              -2.04426425e-10, -7.84811246e-10, -3.13593773e-09,  4.72209649e-09,\n",
    "               0.00000000e+00, -2.66315207e-09,  2.89583113e-09,  8.61473382e-09,\n",
    "               2.95403879e-09,  7.13043846e-10, -1.31694833e-09,  1.54977897e-09,\n",
    "               1.14960130e-09,  1.42212872e-09, -2.98314262e-10, -5.17199321e-10,\n",
    "               8.58135001e-11, -4.48684053e-10, -3.44597437e-11,  1.73496942e-10,\n",
    "               0.00000000e+00])                                                  ,\n",
    "       array([ 0.00000000e+00,  1.15251169e-08,  0.00000000e+00, -5.05679054e-09,\n",
    "               3.42879503e-10,  0.00000000e+00,  0.00000000e+00,  5.98538463e-09,\n",
    "               0.00000000e+00, -6.57928467e-09,  0.00000000e+00,  0.00000000e+00,\n",
    "              -1.67347025e-09, -3.89627530e-09,  1.74259185e-09,  0.00000000e+00,\n",
    "              -3.33784556e-10, -1.58888724e-09,  1.75896275e-09,  0.00000000e+00,\n",
    "              -1.76623871e-09,  1.23691279e-10, -8.34916136e-10,  0.00000000e+00,\n",
    "              -1.77124093e-09,  0.00000000e+00,  0.00000000e+00, -1.34241418e-09,\n",
    "              -2.91402102e-09, -1.15051080e-09, -3.06772563e-09,  3.17413651e-10,\n",
    "               0.00000000e+00,  0.00000000e+00, -7.14317139e-09,  4.99676389e-09,\n",
    "              -2.73075784e-10,  0.00000000e+00,  1.56069291e-09,  1.09139364e-11,\n",
    "              -8.52196536e-10, -4.51018423e-09,  0.00000000e+00,  0.00000000e+00,\n",
    "              -7.26686267e-10,  1.19416654e-09, -2.10548023e-09, -1.19234755e-09,\n",
    "               0.00000000e+00,  5.04587661e-09,  0.00000000e+00,  4.82714313e-09,\n",
    "               0.00000000e+00, -5.30235411e-09,  4.36496824e-09,  4.82941687e-10,\n",
    "               2.66572897e-09,  4.35920811e-09,  0.00000000e+00,  1.37333700e-09,\n",
    "               0.00000000e+00, -6.13636075e-09, -4.22642188e-09, -2.77577783e-09,\n",
    "               1.88265403e-09,  0.00000000e+00, -3.62888386e-09, -3.77743466e-10,\n",
    "              -1.08723595e-09, -3.29600880e-09, -2.72029865e-09,  1.79261406e-09,\n",
    "               1.47338142e-10,  3.58886609e-09, -1.98633643e-09,  0.00000000e+00,\n",
    "               0.00000000e+00,  0.00000000e+00,  0.00000000e+00,  0.00000000e+00,\n",
    "              -4.86534191e-09,  1.71121428e-09, -4.48153514e-09, -1.51749191e-09,\n",
    "              -1.40062184e-10, -1.22872734e-09,  0.00000000e+00,  2.09911377e-09,\n",
    "              -8.35825631e-10, -7.97626853e-10,  0.00000000e+00,  3.22961569e-09,\n",
    "               0.00000000e+00, -1.70954687e-09,  9.27684596e-11, -3.81583555e-10,\n",
    "               9.49967216e-10, -1.34984172e-10,  4.96584107e-10, -2.25069622e-09,\n",
    "              -1.44564183e-09,  2.71529643e-09,  1.31071179e-09,  3.45426088e-09,\n",
    "               1.87583282e-10, -9.48299810e-11, -8.85847840e-10,  0.00000000e+00])],\n",
    "      dtype=object)\n",
    "\n",
    ".base_values =\n",
    "array([[0.56289107, 0.4371089 ],\n",
    "       [0.53882831, 0.46117169]])\n",
    "\n",
    ".data =\n",
    "(array(['', 'I ', 'love ', 'sci', '-', 'fi ', 'and ', 'am ', 'willing ',\n",
    "       'to ', 'put ', 'up ', 'with ', 'a ', 'lot', '. ', 'Sci', '-',\n",
    "       'fi ', 'movies', '/', 'TV ', 'are ', 'usually ', 'under', 'fu',\n",
    "       'nded', ', ', 'under', '-', 'appreciated ', 'and ',\n",
    "       'misunderstood', '. ', 'I ', 'tried ', 'to ', 'like ', 'this',\n",
    "       ', ', 'I ', 'really ', 'did', ', ', 'but ', 'it ', 'is ', 'to ',\n",
    "       'good ', 'TV ', 'sci', '-', 'fi ', 'as ', 'Babylon ', '5 ', 'is ',\n",
    "       'to ', 'Star ', 'Trek ', '(', 'the ', 'original', ')', '. ',\n",
    "       'Silly ', 'pro', 'st', 'hetic', 's', ', ', 'cheap ', 'cardboard ',\n",
    "       'sets', ', ', 'stil', 'ted ', 'dialogues', ', ', 'C', 'G ',\n",
    "       'that ', 'doesn', \"'\", 't ', 'match ', 'the ', 'background', ', ',\n",
    "       'and ', 'painfully ', 'one', '-', 'dimensional ', 'characters ',\n",
    "       'cannot ', 'be ', 'overcome ', 'with ', 'a ', \"'\", 'sci', '-',\n",
    "       'fi', \"' \", 'setting', '. ', '(', 'I', \"'\", 'm ', 'sure ',\n",
    "       'there ', 'are ', 'those ', 'of ', 'you ', 'out ', 'there ',\n",
    "       'who ', 'think ', 'Babylon ', '5 ', 'is ', 'good ', 'sci', '-',\n",
    "       'fi', ''], dtype=object), array(['', 'Worth ', 'the ', 'entertainment ', 'value ', 'of ', 'a ',\n",
    "       'rental', ', ', 'especially ', 'if ', 'you ', 'like ', 'action ',\n",
    "       'movies', '. ', 'This ', 'one ', 'features ', 'the ', 'usual ',\n",
    "       'car ', 'chases', ', ', 'fights ', 'with ', 'the ', 'great ',\n",
    "       'Van ', 'Dam', 'me ', 'kick ', 'style', ', ', 'shooting ',\n",
    "       'battles ', 'with ', 'the ', '40 ', 'shell ', 'load ', 'shotgun',\n",
    "       ', ', 'and ', 'even ', 'terrorist ', 'style ', 'bombs', '. ',\n",
    "       'All ', 'of ', 'this ', 'is ', 'entertaining ', 'and ',\n",
    "       'competent', 'ly ', 'handled ', 'but ', 'there ', 'is ',\n",
    "       'nothing ', 'that ', 'really ', 'blows ', 'you ', 'away ', 'if ',\n",
    "       'you', \"'\", 've ', 'seen ', 'your ', 'share ', 'before', '.', '<',\n",
    "       'br ', '/', '>', '<', 'br ', '/', '>', 'The ', 'plot ', 'is ',\n",
    "       'made ', 'interesting ', 'by ', 'the ', 'inclusion ', 'of ', 'a ',\n",
    "       'rabbit', ', ', 'which ', 'is ', 'clever ', 'but ', 'hardly ',\n",
    "       'profound', '. ', 'Many ', 'of ', 'the ', 'c', ''], dtype=object))\n",
    "\n"
   ]
  },
  {
   "cell_type": "code",
   "execution_count": null,
   "metadata": {},
   "outputs": [],
   "source": []
  },
  {
   "cell_type": "code",
   "execution_count": null,
   "metadata": {},
   "outputs": [],
   "source": [
    "shap.plots.text(shap_values[:, :, \"POSITIVE\"])"
   ]
  },
  {
   "cell_type": "markdown",
   "metadata": {},
   "source": [
    "## Wrap the pipeline manually\n",
    "\n",
    "SHAP requires tensor outputs from the classifier, and explanations works best in additive spaces so we transform the probabilities into logit values (information values instead of probabilites)."
   ]
  },
  {
   "cell_type": "markdown",
   "metadata": {},
   "source": [
    "### Create a TransformersPipeline wrapper"
   ]
  },
  {
   "cell_type": "code",
   "execution_count": null,
   "metadata": {},
   "outputs": [],
   "source": [
    "pmodel = shap.models.TransformersPipeline(classifier, rescale_to_logits=False)"
   ]
  },
  {
   "cell_type": "code",
   "execution_count": null,
   "metadata": {},
   "outputs": [],
   "source": [
    "pmodel(short_data[:2])"
   ]
  },
  {
   "cell_type": "code",
   "execution_count": null,
   "metadata": {},
   "outputs": [],
   "source": [
    "pmodel = shap.models.TransformersPipeline(classifier, rescale_to_logits=True)\n",
    "pmodel(short_data[:2])"
   ]
  },
  {
   "cell_type": "code",
   "execution_count": null,
   "metadata": {},
   "outputs": [],
   "source": [
    "explainer2 = shap.Explainer(pmodel)\n",
    "shap_values2 = explainer2(short_data[:2])\n",
    "shap.plots.text(shap_values2[:, :, 1])"
   ]
  },
  {
   "cell_type": "markdown",
   "metadata": {},
   "source": [
    "### Pass a tokenizer as the masker object"
   ]
  },
  {
   "cell_type": "code",
   "execution_count": null,
   "metadata": {},
   "outputs": [],
   "source": [
    "explainer2 = shap.Explainer(pmodel, classifier.tokenizer)\n",
    "shap_values2 = explainer2(short_data[:2])\n",
    "shap.plots.text(shap_values2[:, :, 1])"
   ]
  },
  {
   "cell_type": "markdown",
   "metadata": {},
   "source": [
    "### Build a Text masker explicitly"
   ]
  },
  {
   "cell_type": "code",
   "execution_count": null,
   "metadata": {},
   "outputs": [],
   "source": [
    "masker = shap.maskers.Text(classifier.tokenizer)\n",
    "explainer2 = shap.Explainer(pmodel, masker)\n",
    "shap_values2 = explainer2(short_data[:2])\n",
    "shap.plots.text(shap_values2[:, :, 1])"
   ]
  },
  {
   "cell_type": "markdown",
   "metadata": {},
   "source": [
    "## Explore how the Text masker works"
   ]
  },
  {
   "cell_type": "code",
   "execution_count": null,
   "metadata": {},
   "outputs": [],
   "source": [
    "masker.shape(\"I like this movie.\")"
   ]
  },
  {
   "cell_type": "code",
   "execution_count": null,
   "metadata": {},
   "outputs": [],
   "source": [
    "model_args = masker(np.array([True, True, True, True, True, True, True]), \"I like this movie.\")\n",
    "model_args"
   ]
  },
  {
   "cell_type": "code",
   "execution_count": null,
   "metadata": {},
   "outputs": [],
   "source": [
    "pmodel(*model_args)"
   ]
  },
  {
   "cell_type": "code",
   "execution_count": null,
   "metadata": {},
   "outputs": [],
   "source": [
    "model_args = masker(np.array([True, True, False, False, True, True, True]), \"I like this movie.\")\n",
    "model_args"
   ]
  },
  {
   "cell_type": "code",
   "execution_count": null,
   "metadata": {},
   "outputs": [],
   "source": [
    "pmodel(*model_args)"
   ]
  },
  {
   "cell_type": "code",
   "execution_count": null,
   "metadata": {},
   "outputs": [],
   "source": [
    "masker2 = shap.maskers.Text(classifier.tokenizer, mask_token=\"...\", collapse_mask_token=True)"
   ]
  },
  {
   "cell_type": "code",
   "execution_count": null,
   "metadata": {},
   "outputs": [],
   "source": [
    "model_args2 = masker2(np.array([True, True, False, False, True, True, True]), \"I like this movie.\")\n",
    "model_args2"
   ]
  },
  {
   "cell_type": "code",
   "execution_count": null,
   "metadata": {},
   "outputs": [],
   "source": [
    "pmodel(*model_args2)"
   ]
  },
  {
   "cell_type": "markdown",
   "metadata": {},
   "source": [
    "## Plot summary statistics and bar charts"
   ]
  },
  {
   "cell_type": "code",
   "execution_count": null,
   "metadata": {
    "scrolled": true
   },
   "outputs": [],
   "source": [
    "# explain the predictions of the pipeline on the first two samples\n",
    "shap_values = explainer(short_data[:20])"
   ]
  },
  {
   "cell_type": "code",
   "execution_count": null,
   "metadata": {},
   "outputs": [],
   "source": [
    "shap.plots.bar(shap_values[0, :, \"POSITIVE\"])"
   ]
  },
  {
   "cell_type": "code",
   "execution_count": null,
   "metadata": {},
   "outputs": [],
   "source": [
    "shap.plots.bar(shap_values[:, :, \"POSITIVE\"].mean(0))"
   ]
  },
  {
   "cell_type": "code",
   "execution_count": null,
   "metadata": {},
   "outputs": [],
   "source": [
    "shap.plots.bar(shap_values[:, :, \"POSITIVE\"].mean(0), order=shap.Explanation.argsort)"
   ]
  },
  {
   "cell_type": "code",
   "execution_count": null,
   "metadata": {},
   "outputs": [],
   "source": []
  },
  {
   "cell_type": "code",
   "execution_count": null,
   "metadata": {},
   "outputs": [],
   "source": []
  },
  {
   "cell_type": "code",
   "execution_count": null,
   "metadata": {},
   "outputs": [],
   "source": []
  },
  {
   "cell_type": "code",
   "execution_count": null,
   "metadata": {},
   "outputs": [],
   "source": []
  },
  {
   "cell_type": "code",
   "execution_count": null,
   "metadata": {},
   "outputs": [],
   "source": []
  },
  {
   "cell_type": "code",
   "execution_count": null,
   "metadata": {},
   "outputs": [],
   "source": []
  },
  {
   "cell_type": "code",
   "execution_count": null,
   "metadata": {},
   "outputs": [],
   "source": []
  },
  {
   "cell_type": "code",
   "execution_count": null,
   "metadata": {},
   "outputs": [],
   "source": []
  },
  {
   "cell_type": "code",
   "execution_count": null,
   "metadata": {},
   "outputs": [],
   "source": []
  },
  {
   "cell_type": "code",
   "execution_count": null,
   "metadata": {},
   "outputs": [],
   "source": []
  },
  {
   "cell_type": "code",
   "execution_count": null,
   "metadata": {},
   "outputs": [],
   "source": []
  },
  {
   "cell_type": "code",
   "execution_count": null,
   "metadata": {},
   "outputs": [],
   "source": []
  },
  {
   "cell_type": "code",
   "execution_count": null,
   "metadata": {},
   "outputs": [],
   "source": []
  }
 ],
 "metadata": {
  "kernelspec": {
   "display_name": "winter_vals",
   "language": "python",
   "name": "winter_vals"
  },
  "language_info": {
   "codemirror_mode": {
    "name": "ipython",
    "version": 3
   },
   "file_extension": ".py",
   "mimetype": "text/x-python",
   "name": "python",
   "nbconvert_exporter": "python",
   "pygments_lexer": "ipython3",
   "version": "3.11.7"
  }
 },
 "nbformat": 4,
 "nbformat_minor": 4
}
